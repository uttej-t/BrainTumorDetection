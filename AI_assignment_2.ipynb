{
 "cells": [
  {
   "cell_type": "code",
   "execution_count": 1,
   "id": "adcb6df4-e6b3-4d53-930b-a948830391ab",
   "metadata": {},
   "outputs": [],
   "source": [
    "import random\n",
    "import numpy as np"
   ]
  },
  {
   "cell_type": "code",
   "execution_count": 2,
   "id": "d9cf86ec-dbfc-4ec0-b1bf-47ef4366e9db",
   "metadata": {},
   "outputs": [],
   "source": [
    "def randomGenome(length):\n",
    "    # Generates a non-negativre random integer for with k (where k = length ) random bits\n",
    "    num = random.getrandbits(length)\n",
    "    \n",
    "    # Converting to binary\n",
    "    bin_num = ('{0:0'+str(length)+'b}').format(num)\n",
    "    return bin_num"
   ]
  },
  {
   "cell_type": "code",
   "execution_count": 3,
   "id": "2b6e4c0c-90cd-4335-800e-f4947aee8106",
   "metadata": {},
   "outputs": [
    {
     "data": {
      "text/plain": [
       "'11111001111101010010'"
      ]
     },
     "execution_count": 3,
     "metadata": {},
     "output_type": "execute_result"
    }
   ],
   "source": [
    "randomGenome(20)"
   ]
  },
  {
   "cell_type": "code",
   "execution_count": 4,
   "id": "85e01cea-f7a2-4b5b-8842-55497bcbdcb8",
   "metadata": {},
   "outputs": [],
   "source": [
    "def makePopulation(size,length):\n",
    "    # Generates population by repeating randomGenome x (x = size) times\n",
    "    return [randomGenome(length) for count in range(size)]"
   ]
  },
  {
   "cell_type": "code",
   "execution_count": 5,
   "id": "788151a9-dde3-4f66-8fca-6df5553f9b17",
   "metadata": {},
   "outputs": [
    {
     "data": {
      "text/plain": [
       "['10011000001000101111', '11101100000100100011']"
      ]
     },
     "execution_count": 5,
     "metadata": {},
     "output_type": "execute_result"
    }
   ],
   "source": [
    "makePopulation(2,20)"
   ]
  },
  {
   "cell_type": "code",
   "execution_count": 6,
   "id": "3a0a2c51-203c-4b3a-bfc8-cb5ccefad4f1",
   "metadata": {},
   "outputs": [],
   "source": [
    "def fitness(genome):\n",
    "    # Converts genome into numpy array\n",
    "    bits = np.array(list(genome))\n",
    "    \n",
    "    # Filters 1's from the array and gets the count\n",
    "    return sum(bits == '1')"
   ]
  },
  {
   "cell_type": "code",
   "execution_count": 7,
   "id": "92be4a48-055f-4d87-bbb5-c3d0a08afecf",
   "metadata": {},
   "outputs": [
    {
     "data": {
      "text/plain": [
       "7"
      ]
     },
     "execution_count": 7,
     "metadata": {},
     "output_type": "execute_result"
    }
   ],
   "source": [
    "fitness(makePopulation(2,20)[0])"
   ]
  },
  {
   "cell_type": "code",
   "execution_count": 8,
   "id": "177f121a-079f-45f4-b3fe-c3c63a6f515f",
   "metadata": {},
   "outputs": [],
   "source": [
    "def evaluateFitness(population):\n",
    "    # Applies fitness(genome) to each genome in population\n",
    "    pop_fitness = [ fitness(obs) for obs in population ]\n",
    "    \n",
    "    # Average of the fitness\n",
    "    avg_fitness = np.average(pop_fitness)\n",
    "    \n",
    "    # Best (Max) of the population fitness\n",
    "    best_fitness = np.max(pop_fitness)\n",
    "    \n",
    "    return avg_fitness, best_fitness"
   ]
  },
  {
   "cell_type": "code",
   "execution_count": 9,
   "id": "20981454-7641-4698-8a60-f5b330091b1f",
   "metadata": {},
   "outputs": [
    {
     "data": {
      "text/plain": [
       "(11.0, 12)"
      ]
     },
     "execution_count": 9,
     "metadata": {},
     "output_type": "execute_result"
    }
   ],
   "source": [
    "evaluateFitness(makePopulation(2,20))"
   ]
  },
  {
   "cell_type": "code",
   "execution_count": 10,
   "id": "fb4caaf1-bd8d-4114-8f84-f79d69e9a150",
   "metadata": {},
   "outputs": [],
   "source": [
    "def selectPair(population):\n",
    "    # Fitness-proportionate selection\n",
    "    \n",
    "    # Population fitness\n",
    "    pop_fitness = [ fitness(obs) for obs in population ]\n",
    "    total_fitness = np.sum(pop_fitness)\n",
    "    \n",
    "    # Probabilities and Cumulative probabilities of fitness\n",
    "    fitness_prob = pop_fitness/total_fitness\n",
    "    cum_fitness_prob = np.cumsum(fitness_prob)\n",
    "    \n",
    "    # Random prob for selection\n",
    "    rand_prob = np.random.rand(2)\n",
    "    \n",
    "    selected_indices = []\n",
    "    for prob in rand_prob:\n",
    "        i = 0\n",
    "        for c in cum_fitness_prob:\n",
    "            if prob > c:\n",
    "                i += 1\n",
    "            else:\n",
    "                break\n",
    "        selected_indices.append(i)\n",
    "    \n",
    "    return np.take(population, selected_indices)"
   ]
  },
  {
   "cell_type": "code",
   "execution_count": 11,
   "id": "821d1d82-e89c-4bb6-95e5-bc6f68e1d7c1",
   "metadata": {},
   "outputs": [
    {
     "data": {
      "text/plain": [
       "array(['00101011110010000110', '00101011110010000110'], dtype='<U20')"
      ]
     },
     "execution_count": 11,
     "metadata": {},
     "output_type": "execute_result"
    }
   ],
   "source": [
    "selectPair(makePopulation(4,20))"
   ]
  },
  {
   "cell_type": "code",
   "execution_count": 12,
   "id": "64d507a0-4ffe-4708-a01e-816bc6fc858b",
   "metadata": {},
   "outputs": [],
   "source": [
    "def crossover(genome1, genome2):\n",
    "    # Random index for crossover\n",
    "    rand_index = np.random.randint(1,len(genome1)-1)\n",
    "    \n",
    "    # Crossover\n",
    "    new_genome1 = genome1[:rand_index] + genome2[rand_index:]\n",
    "    new_genome2 = genome2[:rand_index] + genome1[rand_index:]\n",
    "    \n",
    "    return new_genome1, new_genome2"
   ]
  },
  {
   "cell_type": "code",
   "execution_count": 13,
   "id": "c731ccff-8053-4701-899b-3808f61dbcb2",
   "metadata": {},
   "outputs": [
    {
     "data": {
      "text/plain": [
       "('10100001110011100111', '00100111110000011101')"
      ]
     },
     "execution_count": 13,
     "metadata": {},
     "output_type": "execute_result"
    }
   ],
   "source": [
    "p1 , p2 = selectPair(makePopulation(2,20))\n",
    "crossover(p1,p2)"
   ]
  },
  {
   "cell_type": "code",
   "execution_count": 14,
   "id": "da749625-3a5d-43f8-9e24-7bdac7eea847",
   "metadata": {},
   "outputs": [],
   "source": [
    "def mutate(genome, mutationRate):\n",
    "    indeces_to_flip = np.random.randint(0,len(genome)-1,int((len(genome)*mutationRate)))\n",
    "    \n",
    "    alles_to_flip = np.take(list(genome),indeces_to_flip)   \n",
    "    alles_to_flip = np.invert(alles_to_flip.astype(bool)).astype(int).astype(str)\n",
    "\n",
    "    g = np.array(list(genome))\n",
    "    np.put(g,indeces_to_flip,alles_to_flip)\n",
    "    \n",
    "    return g.tolist()"
   ]
  },
  {
   "cell_type": "code",
   "execution_count": 16,
   "id": "a9eff79d-aa8f-43af-8479-77336fa22970",
   "metadata": {},
   "outputs": [
    {
     "data": {
      "text/plain": [
       "['0', '1', '0', '0', '1', '0']"
      ]
     },
     "execution_count": 16,
     "metadata": {},
     "output_type": "execute_result"
    }
   ],
   "source": [
    "mutate('101010',0.5)"
   ]
  },
  {
   "cell_type": "code",
   "execution_count": null,
   "id": "84b141c5-5bc2-443f-b820-96b3f74bca45",
   "metadata": {},
   "outputs": [],
   "source": [
    "def runGA(populationSize, crossoverRate, mutationRate):\n",
    "    "
   ]
  }
 ],
 "metadata": {
  "kernelspec": {
   "display_name": "Python 3",
   "language": "python",
   "name": "python3"
  },
  "language_info": {
   "codemirror_mode": {
    "name": "ipython",
    "version": 3
   },
   "file_extension": ".py",
   "mimetype": "text/x-python",
   "name": "python",
   "nbconvert_exporter": "python",
   "pygments_lexer": "ipython3",
   "version": "3.8.8"
  }
 },
 "nbformat": 4,
 "nbformat_minor": 5
}
