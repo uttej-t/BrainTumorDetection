{
 "cells": [
  {
   "cell_type": "code",
   "execution_count": 16,
   "id": "bac550a9-a244-46b5-a347-878328d89c78",
   "metadata": {},
   "outputs": [],
   "source": [
    "import imutils\n",
    "import copy\n",
    "\n",
    "import tensorflow as tf\n",
    "from tensorflow.keras.layers import Conv2D, Input, ZeroPadding2D, BatchNormalization, Activation, Dropout, MaxPooling2D, Flatten, Dense\n",
    "from tensorflow.keras.models import Model, load_model, Sequential\n",
    "from tensorflow.keras.callbacks import TensorBoard, ModelCheckpoint\n",
    "\n",
    "from sklearn.model_selection import train_test_split\n",
    "from sklearn.metrics import f1_score\n",
    "from sklearn.utils import shuffle\n",
    "from sklearn.metrics import confusion_matrix\n",
    "from sklearn.metrics import accuracy_score\n",
    "\n",
    "import matplotlib.pyplot as plt\n",
    "import time\n",
    "\n",
    "import cv2\n",
    "\n",
    "from PIL import Image \n",
    "from sklearn.preprocessing import OneHotEncoder "
   ]
  },
  {
   "cell_type": "code",
   "execution_count": 2,
   "id": "f33e00a5-9618-4b1a-8400-821d638754e5",
   "metadata": {},
   "outputs": [],
   "source": [
    "def contour(image , plot = False):\n",
    "    # Converting to Gray scale images\n",
    "    gs_img = cv2.cvtColor(image, cv2.COLOR_BGR2GRAY)\n",
    "    \n",
    "    # Converting the image to Binary for easy seperation of object from background\n",
    "    \n",
    "    # Blurring the image (Image smoothing)\n",
    "    gs_img = cv2.GaussianBlur(gs_img, (5,5),0)\n",
    "    \n",
    "    # Converting the grayscale image to binary image\n",
    "    bin_img = cv2.threshold(gs_img, 50, 255, cv2.THRESH_BINARY)[1]\n",
    "    \n",
    "    # Removing the noise from image\n",
    "    bin_img = cv2.erode(bin_img, None, iterations=2)\n",
    "    bin_img = cv2.dilate(bin_img, None, iterations=2)\n",
    "    \n",
    "    # Finding the contour of image\n",
    "    cntr = cv2.findContours(bin_img.copy(),cv2.RETR_EXTERNAL, cv2.CHAIN_APPROX_SIMPLE)      \n",
    "    \n",
    "    # Get largest contour\n",
    "    cntr = imutils.grab_contours(cntr)\n",
    "    ct = max(cntr, key=cv2.contourArea)\n",
    "    \n",
    "    # Limiting the image by extreme points.\n",
    "    extreme_left = tuple(ct[ct[:,:,0].argmin()][0])\n",
    "    extreme_right = tuple(ct[ct[:,:,0].argmax()][0])\n",
    "    extreme_top = tuple(ct[ct[:,:,1].argmin()][0])\n",
    "    extreme_bottom = tuple(ct[ct[:,:,1].argmax()][0])\n",
    "    \n",
    "    # Processed image\n",
    "    proc_img = image[extreme_top[1]:extreme_bottom[1],extreme_left[0]:extreme_right[0]]\n",
    "    \n",
    "    # Comparing original and processed images\n",
    "    if plot:\n",
    "        plt.figure()\n",
    "        plt.subplot(1,2,1)\n",
    "        plt.imshow(image)\n",
    "        \n",
    "        plt.tick_params()\n",
    "        plt.title(\"Org Image\")\n",
    "        \n",
    "        \n",
    "        plt.subplot(1,2,2)\n",
    "        plt.imshow(proc_img)\n",
    "        \n",
    "        plt.tick_params()\n",
    "        plt.title(\"Proc Image\")\n",
    "        plt.show()\n",
    "        \n",
    "    return proc_img"
   ]
  },
  {
   "cell_type": "code",
   "execution_count": 3,
   "id": "92b436b2-f723-49c9-a49a-b7106b7def84",
   "metadata": {},
   "outputs": [],
   "source": [
    "import numpy as np\n",
    "import pandas as pd\n",
    "\n",
    "import os\n",
    "from os import listdir\n",
    "\n",
    "malignant_paths = []\n",
    "benign_paths = []\n",
    "\n",
    "dataset = []\n",
    "labels = []\n",
    "\n",
    "data_set_path = 'E:/UM_Dearborn/Classes/Sem 2/AI/Assignment/Term Project/DataSet/'\n",
    "malignant_tumours = data_set_path + 'yes/'\n",
    "benign_tumours = data_set_path + 'no/'"
   ]
  },
  {
   "cell_type": "code",
   "execution_count": null,
   "id": "224923f1-be75-4d66-8a7a-8efe0b9144b2",
   "metadata": {},
   "outputs": [],
   "source": [
    "# Run only once\n",
    "# Denoising the images\n",
    "\n",
    "malignant_paths = []\n",
    "benign_paths = []\n",
    "\n",
    "for file in os.listdir(malignant_tumours):\n",
    "    malignant_paths.append(malignant_tumours+file)\n",
    "            \n",
    "for file in os.listdir(benign_tumours):\n",
    "    benign_paths.append(benign_tumours+file)\n",
    "\n",
    "# print(np.array(malignant_paths))\n",
    "# print(np.array(benign_paths))\n",
    "\n",
    "for path in malignant_paths+benign_paths:\n",
    "    print(path)\n",
    "    img = cv2.imread(path)\n",
    "    img = contour(img, False)\n",
    "    cv2.imwrite(path, img)\n",
    "    \n",
    "    img = Image.open(path)\n",
    "    img = img.resize((128,128))\n",
    "    img.save(path)"
   ]
  },
  {
   "cell_type": "code",
   "execution_count": 4,
   "id": "87da0981-2d23-465c-b943-25599930e840",
   "metadata": {},
   "outputs": [
    {
     "name": "stdout",
     "output_type": "stream",
     "text": [
      "[array([0, 1])]\n",
      "auto\n"
     ]
    }
   ],
   "source": [
    "# On hot encoding\n",
    "# 0 = Benign\n",
    "# 1 = Malignant\n",
    "encoder = OneHotEncoder()\n",
    "encoder.fit([[0], [1]]) \n",
    "print(encoder.categories_)\n",
    "print(encoder.categories)"
   ]
  },
  {
   "cell_type": "code",
   "execution_count": 5,
   "id": "2af3b700-0bf6-4751-acbc-8b7c6d0fe134",
   "metadata": {},
   "outputs": [],
   "source": [
    "malignant_paths = []\n",
    "benign_paths = []\n",
    "\n",
    "for file in os.listdir(malignant_tumours):\n",
    "    if '.jpg' in file:\n",
    "        malignant_paths.append(malignant_tumours+file)\n",
    "            \n",
    "for file in os.listdir(benign_tumours):\n",
    "    if '.jpg' in file:\n",
    "        benign_paths.append(benign_tumours+file)"
   ]
  },
  {
   "cell_type": "code",
   "execution_count": 6,
   "id": "afce0379-41a3-46cd-933f-ed60e286d6b6",
   "metadata": {},
   "outputs": [],
   "source": [
    "# Preparing the dataset - Malignant\n",
    "for path in malignant_paths:\n",
    "    img = Image.open(path)\n",
    "    img = np.array(img)\n",
    "    if(img.shape == (128,128,3)):\n",
    "        dataset.append(np.array(img))\n",
    "        labels.append(encoder.transform([[1]]).toarray())"
   ]
  },
  {
   "cell_type": "code",
   "execution_count": 7,
   "id": "aaf047fe-d74f-4a94-998c-5ac0d4b6456d",
   "metadata": {},
   "outputs": [],
   "source": [
    "# Preparing the dataset - Benign\n",
    "for path in benign_paths:\n",
    "    img = Image.open(path)\n",
    "    img = np.array(img)\n",
    "    if(img.shape == (128,128,3)):\n",
    "        dataset.append(np.array(img))\n",
    "        labels.append(encoder.transform([[0]]).toarray())"
   ]
  },
  {
   "cell_type": "code",
   "execution_count": 8,
   "id": "a3d18690-b016-4784-bec2-f80e4fb41a44",
   "metadata": {},
   "outputs": [
    {
     "data": {
      "text/plain": [
       "(171, 128, 128, 3)"
      ]
     },
     "execution_count": 8,
     "metadata": {},
     "output_type": "execute_result"
    }
   ],
   "source": [
    "dataset = np.array(dataset)\n",
    "dataset.shape"
   ]
  },
  {
   "cell_type": "code",
   "execution_count": 9,
   "id": "c5594724-2612-4d70-bc8f-83633e0c46f1",
   "metadata": {},
   "outputs": [
    {
     "data": {
      "text/plain": [
       "(171, 2)"
      ]
     },
     "execution_count": 9,
     "metadata": {},
     "output_type": "execute_result"
    }
   ],
   "source": [
    "labels = np.array(labels)\n",
    "labels = labels.reshape(len(labels),2)\n",
    "labels.shape"
   ]
  },
  {
   "cell_type": "code",
   "execution_count": 32,
   "id": "e40d1b0e-5f29-471a-afc8-9476e60918de",
   "metadata": {},
   "outputs": [],
   "source": [
    "x_train,x_test,y_train,y_test = train_test_split(dataset, labels, test_size=0.25, shuffle=True, random_state=0)"
   ]
  },
  {
   "cell_type": "code",
   "execution_count": 34,
   "id": "eda38f36-72e4-4dac-9e00-13e1279d8467",
   "metadata": {},
   "outputs": [
    {
     "name": "stdout",
     "output_type": "stream",
     "text": [
      "Model: \"sequential_3\"\n",
      "_________________________________________________________________\n",
      "Layer (type)                 Output Shape              Param #   \n",
      "=================================================================\n",
      "conv2d_12 (Conv2D)           (None, 128, 128, 32)      416       \n",
      "_________________________________________________________________\n",
      "conv2d_13 (Conv2D)           (None, 128, 128, 32)      4128      \n",
      "_________________________________________________________________\n",
      "batch_normalization_6 (Batch (None, 128, 128, 32)      128       \n",
      "_________________________________________________________________\n",
      "max_pooling2d_6 (MaxPooling2 (None, 64, 64, 32)        0         \n",
      "_________________________________________________________________\n",
      "dropout_9 (Dropout)          (None, 64, 64, 32)        0         \n",
      "_________________________________________________________________\n",
      "conv2d_14 (Conv2D)           (None, 64, 64, 64)        8256      \n",
      "_________________________________________________________________\n",
      "conv2d_15 (Conv2D)           (None, 64, 64, 64)        16448     \n",
      "_________________________________________________________________\n",
      "batch_normalization_7 (Batch (None, 64, 64, 64)        256       \n",
      "_________________________________________________________________\n",
      "max_pooling2d_7 (MaxPooling2 (None, 32, 32, 64)        0         \n",
      "_________________________________________________________________\n",
      "dropout_10 (Dropout)         (None, 32, 32, 64)        0         \n",
      "_________________________________________________________________\n",
      "flatten_3 (Flatten)          (None, 65536)             0         \n",
      "_________________________________________________________________\n",
      "dense_6 (Dense)              (None, 512)               33554944  \n",
      "_________________________________________________________________\n",
      "dropout_11 (Dropout)         (None, 512)               0         \n",
      "_________________________________________________________________\n",
      "dense_7 (Dense)              (None, 2)                 1026      \n",
      "=================================================================\n",
      "Total params: 33,585,602\n",
      "Trainable params: 33,585,410\n",
      "Non-trainable params: 192\n",
      "_________________________________________________________________\n",
      "None\n",
      "Epoch 1/30\n",
      "4/4 [==============================] - 3s 655ms/step - loss: 28.2490 - val_loss: 23.0965\n",
      "Epoch 2/30\n",
      "4/4 [==============================] - 2s 582ms/step - loss: 10.6951 - val_loss: 8.8895\n",
      "Epoch 3/30\n",
      "4/4 [==============================] - 2s 563ms/step - loss: 3.6617 - val_loss: 5.6794\n",
      "Epoch 4/30\n",
      "4/4 [==============================] - 2s 571ms/step - loss: 3.9005 - val_loss: 4.4531\n",
      "Epoch 5/30\n",
      "4/4 [==============================] - 2s 556ms/step - loss: 2.0233 - val_loss: 12.1336\n",
      "Epoch 6/30\n",
      "4/4 [==============================] - 2s 576ms/step - loss: 1.3187 - val_loss: 10.6669\n",
      "Epoch 7/30\n",
      "4/4 [==============================] - 2s 583ms/step - loss: 0.8519 - val_loss: 5.2450\n",
      "Epoch 8/30\n",
      "4/4 [==============================] - 2s 567ms/step - loss: 1.2283 - val_loss: 4.9973\n",
      "Epoch 9/30\n",
      "4/4 [==============================] - 2s 565ms/step - loss: 0.6497 - val_loss: 8.6239\n",
      "Epoch 10/30\n",
      "4/4 [==============================] - 2s 558ms/step - loss: 0.3417 - val_loss: 7.4167\n",
      "Epoch 11/30\n",
      "4/4 [==============================] - 2s 559ms/step - loss: 0.2823 - val_loss: 5.7358\n",
      "Epoch 12/30\n",
      "4/4 [==============================] - 2s 597ms/step - loss: 0.3088 - val_loss: 4.4767\n",
      "Epoch 13/30\n",
      "4/4 [==============================] - 2s 555ms/step - loss: 0.0572 - val_loss: 3.7178\n",
      "Epoch 14/30\n",
      "4/4 [==============================] - 2s 577ms/step - loss: 0.0819 - val_loss: 3.2030\n",
      "Epoch 15/30\n",
      "4/4 [==============================] - 2s 557ms/step - loss: 0.3304 - val_loss: 3.0206\n",
      "Epoch 16/30\n",
      "4/4 [==============================] - 2s 574ms/step - loss: 0.2505 - val_loss: 3.1126\n",
      "Epoch 17/30\n",
      "4/4 [==============================] - 2s 595ms/step - loss: 0.2936 - val_loss: 2.7745\n",
      "Epoch 18/30\n",
      "4/4 [==============================] - 2s 601ms/step - loss: 0.2034 - val_loss: 2.4446\n",
      "Epoch 19/30\n",
      "4/4 [==============================] - 2s 573ms/step - loss: 3.8289e-04 - val_loss: 2.4602\n",
      "Epoch 20/30\n",
      "4/4 [==============================] - 2s 605ms/step - loss: 0.2293 - val_loss: 2.5263\n",
      "Epoch 21/30\n",
      "4/4 [==============================] - 2s 586ms/step - loss: 1.2852e-04 - val_loss: 2.4832\n",
      "Epoch 22/30\n",
      "4/4 [==============================] - 3s 635ms/step - loss: 0.0018 - val_loss: 2.4733\n",
      "Epoch 23/30\n",
      "4/4 [==============================] - 2s 560ms/step - loss: 7.3606e-06 - val_loss: 2.4944\n",
      "Epoch 24/30\n",
      "4/4 [==============================] - 2s 574ms/step - loss: 0.3391 - val_loss: 2.4565\n",
      "Epoch 25/30\n",
      "4/4 [==============================] - 2s 606ms/step - loss: 9.7071e-04 - val_loss: 2.4647\n",
      "Epoch 26/30\n",
      "4/4 [==============================] - 2s 581ms/step - loss: 4.6118e-04 - val_loss: 2.4679\n",
      "Epoch 27/30\n",
      "4/4 [==============================] - 2s 577ms/step - loss: 0.0496 - val_loss: 2.4032\n",
      "Epoch 28/30\n",
      "4/4 [==============================] - 2s 583ms/step - loss: 0.0266 - val_loss: 2.3334\n",
      "Epoch 29/30\n",
      "4/4 [==============================] - 2s 569ms/step - loss: 1.6110e-04 - val_loss: 2.2813\n",
      "Epoch 30/30\n",
      "4/4 [==============================] - 3s 626ms/step - loss: 0.0443 - val_loss: 2.3873\n"
     ]
    }
   ],
   "source": [
    "model = Sequential()\n",
    "\n",
    "model.add(Conv2D(32, kernel_size=(2, 2), input_shape=(128, 128, 3), padding = 'Same'))\n",
    "model.add(Conv2D(32, kernel_size=(2, 2),  activation ='relu', padding = 'Same'))\n",
    "\n",
    "\n",
    "model.add(BatchNormalization())\n",
    "model.add(MaxPooling2D(pool_size=(2, 2)))\n",
    "model.add(Dropout(0.25))\n",
    "\n",
    "model.add(Conv2D(64, kernel_size = (2,2), activation ='relu', padding = 'Same'))\n",
    "model.add(Conv2D(64, kernel_size = (2,2), activation ='relu', padding = 'Same'))\n",
    "\n",
    "model.add(BatchNormalization())\n",
    "model.add(MaxPooling2D(pool_size=(2,2), strides=(2,2)))\n",
    "model.add(Dropout(0.25))\n",
    "\n",
    "model.add(Flatten())\n",
    "\n",
    "model.add(Dense(512, activation='relu'))\n",
    "model.add(Dropout(0.5))\n",
    "model.add(Dense(2, activation='softmax'))\n",
    "\n",
    "model.compile(loss = \"categorical_crossentropy\", optimizer='Adamax')\n",
    "print(model.summary())\n",
    "\n",
    "history = model.fit(x_train, y_train, epochs = 30, batch_size = 40, verbose = 1, use_multiprocessing = True, validation_data = (x_test, y_test))"
   ]
  },
  {
   "cell_type": "code",
   "execution_count": 30,
   "id": "6471db2f-53f5-4715-b8c7-5bc6391496ad",
   "metadata": {},
   "outputs": [
    {
     "data": {
      "image/png": "[encoded data removed]",
      "text/plain": [
       "<Figure size 432x288 with 1 Axes>"
      ]
     },
     "metadata": {
      "needs_background": "light"
     },
     "output_type": "display_data"
    }
   ],
   "source": [
    "plt.plot(history.history['loss'])\n",
    "plt.plot(history.history['val_loss'])\n",
    "plt.title('Model Loss')\n",
    "plt.ylabel('Loss')\n",
    "plt.xlabel('Epoch')\n",
    "plt.legend(['Test', 'Validation'], loc='upper right')\n",
    "plt.show()"
   ]
  },
  {
   "cell_type": "code",
   "execution_count": 31,
   "id": "fd879bce-7dcf-49a6-ac3f-1f67f1ea3407",
   "metadata": {},
   "outputs": [
    {
     "name": "stdout",
     "output_type": "stream",
     "text": [
      "Confusion Matrix: Training set\n",
      " [[74  0]\n",
      " [12 67]] \n",
      "\n",
      "Accuracy : Training set:  0.9215686274509803 \n",
      "\n",
      "\n",
      "Confusion Matrix: Test set\n",
      " [[10  1]\n",
      " [ 2  5]] \n",
      "\n",
      "Accuracy : Test set:  0.8333333333333334\n"
     ]
    }
   ],
   "source": [
    "# x_train,x_test,y_train,y_test\n",
    "\n",
    "y_train_inv_transformed = encoder.inverse_transform(y_train).flatten()\n",
    "y_pred = np.argmax(model.predict(x_train), axis=-1)\n",
    "\n",
    "cm = confusion_matrix(y_train_inv_transformed, y_pred)\n",
    "print('Confusion Matrix: Training set\\n',cm,'\\n')\n",
    "print('Accuracy : Training set: ',accuracy_score(y_train_inv_transformed,y_pred),'\\n\\n')\n",
    "\n",
    "y_pred = np.argmax(model.predict(x_test), axis=-1)\n",
    "y_test_inv_transformed = encoder.inverse_transform(y_test).flatten()\n",
    "\n",
    "cm = confusion_matrix(y_test_inv_transformed, y_pred)\n",
    "print('Confusion Matrix: Test set\\n',cm,'\\n')\n",
    "print('Accuracy : Test set: ',accuracy_score(y_test_inv_transformed,y_pred))"
   ]
  },
  {
   "cell_type": "markdown",
   "id": "c164fc75-71a6-4993-89f6-d3b5e4c2ec93",
   "metadata": {},
   "source": [
    "# Sample Image took John Hopkins Medicine Pathology portal and predicted the results"
   ]
  },
  {
   "cell_type": "code",
   "execution_count": 36,
   "id": "479a803a-d23e-45e7-bc29-b210bb97b46b",
   "metadata": {},
   "outputs": [
    {
     "name": "stdout",
     "output_type": "stream",
     "text": [
      "C:\\Users\\rajku\\Desktop\\brain-tumor-overview.jpg\n"
     ]
    }
   ],
   "source": [
    "malignant_paths = ['C:\\\\Users\\\\rajku\\\\Desktop\\\\brain-tumor-overview.jpg']\n",
    "benign_paths = []\n",
    "\n",
    "# print(np.array(malignant_paths))\n",
    "# print(np.array(benign_paths))\n",
    "\n",
    "for path in malignant_paths+benign_paths:\n",
    "    print(path)\n",
    "    img = cv2.imread(path)\n",
    "    img = contour(img, False)\n",
    "    cv2.imwrite(path, img)\n",
    "    \n",
    "    img = Image.open(path)\n",
    "    img = img.resize((128,128))\n",
    "    img.save(path)"
   ]
  },
  {
   "cell_type": "code",
   "execution_count": 41,
   "id": "50bbb1f5-dbd6-46a8-86ae-50ce168c3fb2",
   "metadata": {},
   "outputs": [
    {
     "data": {
      "text/plain": [
       "(1, 128, 128, 3)"
      ]
     },
     "execution_count": 41,
     "metadata": {},
     "output_type": "execute_result"
    }
   ],
   "source": [
    "y_test_real = []\n",
    "img = Image.open('C:\\\\Users\\\\rajku\\\\Desktop\\\\brain-tumor-overview.jpg')\n",
    "img = np.array(img)\n",
    "if(img.shape == (128,128,3)):\n",
    "    y_test_real.append(np.array(img))\n",
    "\n",
    "y_test_real = np.array(y_test_real)\n",
    "y_test_real.shape"
   ]
  },
  {
   "cell_type": "code",
   "execution_count": 44,
   "id": "06a4536f-7f65-41d6-9a9e-206fde6e1e64",
   "metadata": {},
   "outputs": [
    {
     "data": {
      "text/plain": [
       "1"
      ]
     },
     "execution_count": 44,
     "metadata": {},
     "output_type": "execute_result"
    }
   ],
   "source": [
    "np.argmax(model.predict(y_test_real), axis=-1)[0]"
   ]
  }
 ],
 "metadata": {
  "kernelspec": {
   "display_name": "Python 3",
   "language": "python",
   "name": "python3"
  },
  "language_info": {
   "codemirror_mode": {
    "name": "ipython",
    "version": 3
   },
   "file_extension": ".py",
   "mimetype": "text/x-python",
   "name": "python",
   "nbconvert_exporter": "python",
   "pygments_lexer": "ipython3",
   "version": "3.8.8"
  }
 },
 "nbformat": 4,
 "nbformat_minor": 5
}
